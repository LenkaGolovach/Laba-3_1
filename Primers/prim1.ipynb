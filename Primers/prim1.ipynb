{
 "cells": [
  {
   "cell_type": "markdown",
   "id": "5b45c533",
   "metadata": {},
   "source": [
    "# Пример №1"
   ]
  },
  {
   "cell_type": "code",
   "execution_count": 1,
   "id": "a52fbd64",
   "metadata": {
    "ExecuteTime": {
     "end_time": "2023-04-27T22:52:31.233991Z",
     "start_time": "2023-04-27T22:52:31.202547Z"
    }
   },
   "outputs": [
    {
     "data": {
      "text/plain": [
       "5"
      ]
     },
     "execution_count": 1,
     "metadata": {},
     "output_type": "execute_result"
    }
   ],
   "source": [
    "3 + 2"
   ]
  },
  {
   "cell_type": "code",
   "execution_count": 2,
   "id": "f1cc9140",
   "metadata": {
    "ExecuteTime": {
     "end_time": "2023-04-27T22:52:39.866389Z",
     "start_time": "2023-04-27T22:52:39.858411Z"
    }
   },
   "outputs": [
    {
     "name": "stdout",
     "output_type": "stream",
     "text": [
      "12\n"
     ]
    }
   ],
   "source": [
    "a = 5\n",
    "b = 7\n",
    "print(a + b)"
   ]
  },
  {
   "cell_type": "code",
   "execution_count": 3,
   "id": "5abb7255",
   "metadata": {
    "ExecuteTime": {
     "end_time": "2023-04-27T22:52:45.376666Z",
     "start_time": "2023-04-27T22:52:45.364699Z"
    }
   },
   "outputs": [
    {
     "name": "stdout",
     "output_type": "stream",
     "text": [
      "0\n",
      "10\n",
      "20\n",
      "30\n",
      "40\n",
      "50\n",
      "60\n"
     ]
    }
   ],
   "source": [
    "n = 7\n",
    "for i in range(n):\n",
    "    print(i * 10)"
   ]
  },
  {
   "cell_type": "code",
   "execution_count": 4,
   "id": "d79902fb",
   "metadata": {
    "ExecuteTime": {
     "end_time": "2023-04-27T22:52:51.892536Z",
     "start_time": "2023-04-27T22:52:51.877579Z"
    }
   },
   "outputs": [
    {
     "name": "stdout",
     "output_type": "stream",
     "text": [
      "Test while\n",
      "Test while\n",
      "Test while\n",
      "Test while\n",
      "Test while\n"
     ]
    }
   ],
   "source": [
    "i = 0\n",
    "while True:\n",
    "    i += 1\n",
    "    if i > 5:\n",
    "        break\n",
    "    print(\"Test while\")"
   ]
  }
 ],
 "metadata": {
  "kernelspec": {
   "display_name": "Python 3 (ipykernel)",
   "language": "python",
   "name": "python3"
  },
  "language_info": {
   "codemirror_mode": {
    "name": "ipython",
    "version": 3
   },
   "file_extension": ".py",
   "mimetype": "text/x-python",
   "name": "python",
   "nbconvert_exporter": "python",
   "pygments_lexer": "ipython3",
   "version": "3.9.12"
  }
 },
 "nbformat": 4,
 "nbformat_minor": 5
}
