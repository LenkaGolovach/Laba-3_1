{
 "cells": [
  {
   "cell_type": "markdown",
   "id": "531c7952",
   "metadata": {},
   "source": [
    "# Пример №3"
   ]
  },
  {
   "cell_type": "code",
   "execution_count": 1,
   "id": "2ea2104e",
   "metadata": {
    "ExecuteTime": {
     "end_time": "2023-04-27T22:54:30.742139Z",
     "start_time": "2023-04-27T22:54:25.272888Z"
    }
   },
   "outputs": [
    {
     "name": "stdout",
     "output_type": "stream",
     "text": [
      "CPU times: total: 0 ns\n",
      "Wall time: 5.44 s\n"
     ]
    }
   ],
   "source": [
    "%%time\n",
    "import time\n",
    "for i in range(50):\n",
    "    time.sleep(0.1)"
   ]
  }
 ],
 "metadata": {
  "kernelspec": {
   "display_name": "Python 3 (ipykernel)",
   "language": "python",
   "name": "python3"
  },
  "language_info": {
   "codemirror_mode": {
    "name": "ipython",
    "version": 3
   },
   "file_extension": ".py",
   "mimetype": "text/x-python",
   "name": "python",
   "nbconvert_exporter": "python",
   "pygments_lexer": "ipython3",
   "version": "3.9.12"
  }
 },
 "nbformat": 4,
 "nbformat_minor": 5
}
