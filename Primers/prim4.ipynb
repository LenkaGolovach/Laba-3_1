{
 "cells": [
  {
   "cell_type": "markdown",
   "id": "32be1b8e",
   "metadata": {},
   "source": [
    "# Пример №4"
   ]
  },
  {
   "cell_type": "code",
   "execution_count": 1,
   "id": "eb053eb8",
   "metadata": {
    "ExecuteTime": {
     "end_time": "2023-04-27T22:55:56.237688Z",
     "start_time": "2023-04-27T22:55:54.015648Z"
    }
   },
   "outputs": [
    {
     "name": "stdout",
     "output_type": "stream",
     "text": [
      "2.71 µs ± 34 ns per loop (mean ± std. dev. of 7 runs, 100,000 loops each)\n"
     ]
    }
   ],
   "source": [
    "%timeit x = [(i**10) for i in range(10)]"
   ]
  }
 ],
 "metadata": {
  "kernelspec": {
   "display_name": "Python 3 (ipykernel)",
   "language": "python",
   "name": "python3"
  },
  "language_info": {
   "codemirror_mode": {
    "name": "ipython",
    "version": 3
   },
   "file_extension": ".py",
   "mimetype": "text/x-python",
   "name": "python",
   "nbconvert_exporter": "python",
   "pygments_lexer": "ipython3",
   "version": "3.9.12"
  }
 },
 "nbformat": 4,
 "nbformat_minor": 5
}
