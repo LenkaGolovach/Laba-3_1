{
 "cells": [
  {
   "attachments": {},
   "cell_type": "markdown",
   "id": "74b8cecd",
   "metadata": {},
   "source": [
    "# Индивидуальное задание."
   ]
  },
  {
   "attachments": {},
   "cell_type": "markdown",
   "id": "eca509a7",
   "metadata": {},
   "source": [
    "## Вычисление площади под кривой"
   ]
  },
  {
   "attachments": {},
   "cell_type": "markdown",
   "id": "38382723",
   "metadata": {},
   "source": [
    "## Необходимо вычислить площадь, заключенную между заданной кривой и осью $X$ на определенном интервале. Затем построить график этой кривой и закрашенной области."
   ]
  },
  {
   "cell_type": "code",
   "execution_count": 16,
   "id": "592f8627",
   "metadata": {},
   "outputs": [],
   "source": [
    "# импортируем библиотеки\n",
    "import numpy as np\n",
    "import matplotlib.pyplot as plt\n",
    "from scipy import integrate"
   ]
  },
  {
   "attachments": {},
   "cell_type": "markdown",
   "id": "f0328301",
   "metadata": {},
   "source": [
    "### Задаём функцию для кривой"
   ]
  },
  {
   "cell_type": "code",
   "execution_count": 12,
   "id": "666abba4",
   "metadata": {},
   "outputs": [],
   "source": [
    "def f(x):\n",
    "    return np.sin(x) + 2"
   ]
  },
  {
   "attachments": {},
   "cell_type": "markdown",
   "id": "6e68cf59",
   "metadata": {},
   "source": [
    "### Задаём интервал, на котором будет вычисляться площадь под кривой"
   ]
  },
  {
   "cell_type": "code",
   "execution_count": 13,
   "id": "9724695d",
   "metadata": {},
   "outputs": [],
   "source": [
    "a = 0  # Начальная точка интервала\n",
    "b = np.pi  # Конечная точка интервала"
   ]
  },
  {
   "attachments": {},
   "cell_type": "markdown",
   "id": "036eeb82",
   "metadata": {},
   "source": [
    "### Вычисляем площадь под кривой с помощью интеграла"
   ]
  },
  {
   "cell_type": "code",
   "execution_count": 14,
   "id": "d1619d93",
   "metadata": {},
   "outputs": [
    {
     "name": "stdout",
     "output_type": "stream",
     "text": [
      "Площадь под кривой: 8.283185307179586\n"
     ]
    }
   ],
   "source": [
    "area, error = integrate.quad(f, a, b)\n",
    "print(\"Площадь под кривой:\", area)"
   ]
  },
  {
   "cell_type": "code",
   "execution_count": 15,
   "id": "7d157a71",
   "metadata": {},
   "outputs": [
    {
     "data": {
      "image/png": "[encoded data removed]",
      "text/plain": [
       "<Figure size 432x288 with 1 Axes>"
      ]
     },
     "metadata": {
      "needs_background": "light"
     },
     "output_type": "display_data"
    }
   ],
   "source": [
    "x = np.linspace(a, b, 100)  # Создание массива значений X\n",
    "y = f(x)  # Вычисление значений Y для каждого X\n",
    "\n",
    "plt.plot(x, y, 'b', linewidth=2)  # Построение графика кривой\n",
    "plt.fill_between(x, y, color='lightblue')  # Закрашивание области под кривой\n",
    "plt.xlabel('X')\n",
    "plt.ylabel('Y')\n",
    "plt.title('График кривой и площади под ней')\n",
    "plt.grid(True)\n",
    "plt.show()"
   ]
  }
 ],
 "metadata": {
  "kernelspec": {
   "display_name": "Python 3 (ipykernel)",
   "language": "python",
   "name": "python3"
  },
  "language_info": {
   "codemirror_mode": {
    "name": "ipython",
    "version": 3
   },
   "file_extension": ".py",
   "mimetype": "text/x-python",
   "name": "python",
   "nbconvert_exporter": "python",
   "pygments_lexer": "ipython3",
   "version": "3.9.12"
  }
 },
 "nbformat": 4,
 "nbformat_minor": 5
}
